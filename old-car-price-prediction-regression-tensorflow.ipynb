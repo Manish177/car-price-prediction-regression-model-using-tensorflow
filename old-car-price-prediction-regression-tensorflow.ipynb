{
 "cells": [
  {
   "cell_type": "code",
   "execution_count": 1,
   "id": "3dbde3e3",
   "metadata": {
    "execution": {
     "iopub.execute_input": "2023-06-13T15:21:08.192132Z",
     "iopub.status.busy": "2023-06-13T15:21:08.191437Z",
     "iopub.status.idle": "2023-06-13T15:21:16.504674Z",
     "shell.execute_reply": "2023-06-13T15:21:16.503381Z"
    },
    "papermill": {
     "duration": 8.32187,
     "end_time": "2023-06-13T15:21:16.507179",
     "exception": false,
     "start_time": "2023-06-13T15:21:08.185309",
     "status": "completed"
    },
    "tags": []
   },
   "outputs": [
    {
     "name": "stderr",
     "output_type": "stream",
     "text": [
      "/opt/conda/lib/python3.10/site-packages/tensorflow_io/python/ops/__init__.py:98: UserWarning: unable to load libtensorflow_io_plugins.so: unable to open file: libtensorflow_io_plugins.so, from paths: ['/opt/conda/lib/python3.10/site-packages/tensorflow_io/python/ops/libtensorflow_io_plugins.so']\n",
      "caused by: ['/opt/conda/lib/python3.10/site-packages/tensorflow_io/python/ops/libtensorflow_io_plugins.so: undefined symbol: _ZN3tsl6StatusC1EN10tensorflow5error4CodeESt17basic_string_viewIcSt11char_traitsIcEENS_14SourceLocationE']\n",
      "  warnings.warn(f\"unable to load libtensorflow_io_plugins.so: {e}\")\n",
      "/opt/conda/lib/python3.10/site-packages/tensorflow_io/python/ops/__init__.py:104: UserWarning: file system plugins are not loaded: unable to open file: libtensorflow_io.so, from paths: ['/opt/conda/lib/python3.10/site-packages/tensorflow_io/python/ops/libtensorflow_io.so']\n",
      "caused by: ['/opt/conda/lib/python3.10/site-packages/tensorflow_io/python/ops/libtensorflow_io.so: undefined symbol: _ZTVN10tensorflow13GcsFileSystemE']\n",
      "  warnings.warn(f\"file system plugins are not loaded: {e}\")\n"
     ]
    }
   ],
   "source": [
    "import numpy as np\n",
    "import pandas as pd\n",
    "from tensorflow.keras.layers import Normalization, Dense, InputLayer\n",
    "import tensorflow as tf\n",
    "from tensorflow.keras.models import Sequential\n",
    "from tensorflow.keras.optimizers import Adam\n",
    "from tensorflow.keras.losses import MeanAbsoluteError\n",
    "from tensorflow.keras.metrics import RootMeanSquaredError\n",
    "import matplotlib.pyplot as plt"
   ]
  },
  {
   "cell_type": "code",
   "execution_count": 2,
   "id": "246fba58",
   "metadata": {
    "execution": {
     "iopub.execute_input": "2023-06-13T15:21:16.517782Z",
     "iopub.status.busy": "2023-06-13T15:21:16.517006Z",
     "iopub.status.idle": "2023-06-13T15:21:16.566580Z",
     "shell.execute_reply": "2023-06-13T15:21:16.565429Z"
    },
    "papermill": {
     "duration": 0.057398,
     "end_time": "2023-06-13T15:21:16.569034",
     "exception": false,
     "start_time": "2023-06-13T15:21:16.511636",
     "status": "completed"
    },
    "tags": []
   },
   "outputs": [
    {
     "data": {
      "text/html": [
       "<div>\n",
       "<style scoped>\n",
       "    .dataframe tbody tr th:only-of-type {\n",
       "        vertical-align: middle;\n",
       "    }\n",
       "\n",
       "    .dataframe tbody tr th {\n",
       "        vertical-align: top;\n",
       "    }\n",
       "\n",
       "    .dataframe thead th {\n",
       "        text-align: right;\n",
       "    }\n",
       "</style>\n",
       "<table border=\"1\" class=\"dataframe\">\n",
       "  <thead>\n",
       "    <tr style=\"text-align: right;\">\n",
       "      <th></th>\n",
       "      <th>v.id</th>\n",
       "      <th>on road old</th>\n",
       "      <th>on road now</th>\n",
       "      <th>years</th>\n",
       "      <th>km</th>\n",
       "      <th>rating</th>\n",
       "      <th>condition</th>\n",
       "      <th>economy</th>\n",
       "      <th>top speed</th>\n",
       "      <th>hp</th>\n",
       "      <th>torque</th>\n",
       "      <th>current price</th>\n",
       "    </tr>\n",
       "  </thead>\n",
       "  <tbody>\n",
       "    <tr>\n",
       "      <th>0</th>\n",
       "      <td>1</td>\n",
       "      <td>535651</td>\n",
       "      <td>798186</td>\n",
       "      <td>3</td>\n",
       "      <td>78945</td>\n",
       "      <td>1</td>\n",
       "      <td>2</td>\n",
       "      <td>14</td>\n",
       "      <td>177</td>\n",
       "      <td>73</td>\n",
       "      <td>123</td>\n",
       "      <td>351318.0</td>\n",
       "    </tr>\n",
       "    <tr>\n",
       "      <th>1</th>\n",
       "      <td>2</td>\n",
       "      <td>591911</td>\n",
       "      <td>861056</td>\n",
       "      <td>6</td>\n",
       "      <td>117220</td>\n",
       "      <td>5</td>\n",
       "      <td>9</td>\n",
       "      <td>9</td>\n",
       "      <td>148</td>\n",
       "      <td>74</td>\n",
       "      <td>95</td>\n",
       "      <td>285001.5</td>\n",
       "    </tr>\n",
       "    <tr>\n",
       "      <th>2</th>\n",
       "      <td>3</td>\n",
       "      <td>686990</td>\n",
       "      <td>770762</td>\n",
       "      <td>2</td>\n",
       "      <td>132538</td>\n",
       "      <td>2</td>\n",
       "      <td>8</td>\n",
       "      <td>15</td>\n",
       "      <td>181</td>\n",
       "      <td>53</td>\n",
       "      <td>97</td>\n",
       "      <td>215386.0</td>\n",
       "    </tr>\n",
       "    <tr>\n",
       "      <th>3</th>\n",
       "      <td>4</td>\n",
       "      <td>573999</td>\n",
       "      <td>722381</td>\n",
       "      <td>4</td>\n",
       "      <td>101065</td>\n",
       "      <td>4</td>\n",
       "      <td>3</td>\n",
       "      <td>11</td>\n",
       "      <td>197</td>\n",
       "      <td>54</td>\n",
       "      <td>116</td>\n",
       "      <td>244295.5</td>\n",
       "    </tr>\n",
       "    <tr>\n",
       "      <th>4</th>\n",
       "      <td>5</td>\n",
       "      <td>691388</td>\n",
       "      <td>811335</td>\n",
       "      <td>6</td>\n",
       "      <td>61559</td>\n",
       "      <td>3</td>\n",
       "      <td>9</td>\n",
       "      <td>12</td>\n",
       "      <td>160</td>\n",
       "      <td>53</td>\n",
       "      <td>105</td>\n",
       "      <td>531114.5</td>\n",
       "    </tr>\n",
       "  </tbody>\n",
       "</table>\n",
       "</div>"
      ],
      "text/plain": [
       "   v.id  on road old  on road now  years      km  rating  condition  economy  \\\n",
       "0     1       535651       798186      3   78945       1          2       14   \n",
       "1     2       591911       861056      6  117220       5          9        9   \n",
       "2     3       686990       770762      2  132538       2          8       15   \n",
       "3     4       573999       722381      4  101065       4          3       11   \n",
       "4     5       691388       811335      6   61559       3          9       12   \n",
       "\n",
       "   top speed  hp  torque  current price  \n",
       "0        177  73     123       351318.0  \n",
       "1        148  74      95       285001.5  \n",
       "2        181  53      97       215386.0  \n",
       "3        197  54     116       244295.5  \n",
       "4        160  53     105       531114.5  "
      ]
     },
     "execution_count": 2,
     "metadata": {},
     "output_type": "execute_result"
    }
   ],
   "source": [
    "data=pd.read_csv('/kaggle/input/second-hand-used-cars-data-set-linear-regression/train.csv')\n",
    "data[:5]"
   ]
  },
  {
   "cell_type": "code",
   "execution_count": 3,
   "id": "7cd9f72e",
   "metadata": {
    "execution": {
     "iopub.execute_input": "2023-06-13T15:21:16.581251Z",
     "iopub.status.busy": "2023-06-13T15:21:16.580121Z",
     "iopub.status.idle": "2023-06-13T15:21:16.679581Z",
     "shell.execute_reply": "2023-06-13T15:21:16.678770Z"
    },
    "papermill": {
     "duration": 0.107751,
     "end_time": "2023-06-13T15:21:16.681700",
     "exception": false,
     "start_time": "2023-06-13T15:21:16.573949",
     "status": "completed"
    },
    "tags": []
   },
   "outputs": [
    {
     "data": {
      "text/plain": [
       "<tf.Tensor: shape=(5, 12), dtype=float64, numpy=\n",
       "array([[1.000000e+00, 5.356510e+05, 7.981860e+05, 3.000000e+00,\n",
       "        7.894500e+04, 1.000000e+00, 2.000000e+00, 1.400000e+01,\n",
       "        1.770000e+02, 7.300000e+01, 1.230000e+02, 3.513180e+05],\n",
       "       [2.000000e+00, 5.919110e+05, 8.610560e+05, 6.000000e+00,\n",
       "        1.172200e+05, 5.000000e+00, 9.000000e+00, 9.000000e+00,\n",
       "        1.480000e+02, 7.400000e+01, 9.500000e+01, 2.850015e+05],\n",
       "       [3.000000e+00, 6.869900e+05, 7.707620e+05, 2.000000e+00,\n",
       "        1.325380e+05, 2.000000e+00, 8.000000e+00, 1.500000e+01,\n",
       "        1.810000e+02, 5.300000e+01, 9.700000e+01, 2.153860e+05],\n",
       "       [4.000000e+00, 5.739990e+05, 7.223810e+05, 4.000000e+00,\n",
       "        1.010650e+05, 4.000000e+00, 3.000000e+00, 1.100000e+01,\n",
       "        1.970000e+02, 5.400000e+01, 1.160000e+02, 2.442955e+05],\n",
       "       [5.000000e+00, 6.913880e+05, 8.113350e+05, 6.000000e+00,\n",
       "        6.155900e+04, 3.000000e+00, 9.000000e+00, 1.200000e+01,\n",
       "        1.600000e+02, 5.300000e+01, 1.050000e+02, 5.311145e+05]])>"
      ]
     },
     "execution_count": 3,
     "metadata": {},
     "output_type": "execute_result"
    }
   ],
   "source": [
    "tData=tf.constant(data)\n",
    "tData[:5]"
   ]
  },
  {
   "cell_type": "code",
   "execution_count": 4,
   "id": "36226530",
   "metadata": {
    "execution": {
     "iopub.execute_input": "2023-06-13T15:21:16.693901Z",
     "iopub.status.busy": "2023-06-13T15:21:16.692346Z",
     "iopub.status.idle": "2023-06-13T15:21:16.703465Z",
     "shell.execute_reply": "2023-06-13T15:21:16.702103Z"
    },
    "papermill": {
     "duration": 0.01991,
     "end_time": "2023-06-13T15:21:16.706141",
     "exception": false,
     "start_time": "2023-06-13T15:21:16.686231",
     "status": "completed"
    },
    "tags": []
   },
   "outputs": [],
   "source": [
    "tData=tf.random.shuffle(tData)"
   ]
  },
  {
   "cell_type": "code",
   "execution_count": 5,
   "id": "581b8847",
   "metadata": {
    "execution": {
     "iopub.execute_input": "2023-06-13T15:21:16.716881Z",
     "iopub.status.busy": "2023-06-13T15:21:16.716477Z",
     "iopub.status.idle": "2023-06-13T15:21:16.731930Z",
     "shell.execute_reply": "2023-06-13T15:21:16.731107Z"
    },
    "papermill": {
     "duration": 0.023376,
     "end_time": "2023-06-13T15:21:16.734150",
     "exception": false,
     "start_time": "2023-06-13T15:21:16.710774",
     "status": "completed"
    },
    "tags": []
   },
   "outputs": [],
   "source": [
    "y=tData[ : , -1]\n",
    "X=tData[ : , 3:-1]\n"
   ]
  },
  {
   "cell_type": "code",
   "execution_count": null,
   "id": "6c9cd190",
   "metadata": {
    "papermill": {
     "duration": 0.004239,
     "end_time": "2023-06-13T15:21:16.742991",
     "exception": false,
     "start_time": "2023-06-13T15:21:16.738752",
     "status": "completed"
    },
    "tags": []
   },
   "outputs": [],
   "source": []
  },
  {
   "cell_type": "code",
   "execution_count": 6,
   "id": "65a37a62",
   "metadata": {
    "execution": {
     "iopub.execute_input": "2023-06-13T15:21:16.755278Z",
     "iopub.status.busy": "2023-06-13T15:21:16.754560Z",
     "iopub.status.idle": "2023-06-13T15:21:17.227957Z",
     "shell.execute_reply": "2023-06-13T15:21:17.226725Z"
    },
    "papermill": {
     "duration": 0.481822,
     "end_time": "2023-06-13T15:21:17.230621",
     "exception": false,
     "start_time": "2023-06-13T15:21:16.748799",
     "status": "completed"
    },
    "tags": []
   },
   "outputs": [],
   "source": [
    "normalizer=Normalization()\n",
    "normalizer.adapt(X)\n",
    "nData=normalizer(X)"
   ]
  },
  {
   "cell_type": "code",
   "execution_count": 7,
   "id": "63ac705d",
   "metadata": {
    "execution": {
     "iopub.execute_input": "2023-06-13T15:21:17.242249Z",
     "iopub.status.busy": "2023-06-13T15:21:17.241123Z",
     "iopub.status.idle": "2023-06-13T15:21:17.251014Z",
     "shell.execute_reply": "2023-06-13T15:21:17.250003Z"
    },
    "papermill": {
     "duration": 0.017946,
     "end_time": "2023-06-13T15:21:17.253175",
     "exception": false,
     "start_time": "2023-06-13T15:21:17.235229",
     "status": "completed"
    },
    "tags": []
   },
   "outputs": [
    {
     "data": {
      "text/plain": [
       "<tf.Tensor: shape=(5, 8), dtype=float32, numpy=\n",
       "array([[ 1.4194925 , -0.24040508, -0.7046619 , -0.20970294,  0.16820416,\n",
       "         1.3023156 ,  0.21719798, -0.16262706],\n",
       "       [ 0.8374947 ,  1.6107831 ,  0.00855922, -0.56393147,  1.0652931 ,\n",
       "         1.3541863 ,  0.65607935,  0.5500235 ],\n",
       "       [ 0.8374947 , -1.5824274 ,  0.00855922, -1.2723885 ,  0.16820416,\n",
       "         1.250445  ,  0.8511377 ,  0.35998335],\n",
       "       [ 1.4194925 ,  0.09845544, -0.7046619 , -1.2723885 ,  0.16820416,\n",
       "        -0.6168977 ,  1.290019  ,  0.6450436 ],\n",
       "       [ 1.4194925 , -1.1637683 ,  1.4350015 , -0.56393147,  1.5138375 ,\n",
       "        -1.0318627 , -1.2457398 , -1.4929081 ]], dtype=float32)>"
      ]
     },
     "execution_count": 7,
     "metadata": {},
     "output_type": "execute_result"
    }
   ],
   "source": [
    "nData[:5]"
   ]
  },
  {
   "cell_type": "code",
   "execution_count": 8,
   "id": "00c98623",
   "metadata": {
    "execution": {
     "iopub.execute_input": "2023-06-13T15:21:17.264808Z",
     "iopub.status.busy": "2023-06-13T15:21:17.264053Z",
     "iopub.status.idle": "2023-06-13T15:21:17.270828Z",
     "shell.execute_reply": "2023-06-13T15:21:17.270014Z"
    },
    "papermill": {
     "duration": 0.015,
     "end_time": "2023-06-13T15:21:17.272951",
     "exception": false,
     "start_time": "2023-06-13T15:21:17.257951",
     "status": "completed"
    },
    "tags": []
   },
   "outputs": [],
   "source": [
    "X_train=nData[:int(len(nData)*0.8)]\n",
    "y_train=y[:int(len(nData)*0.8)]\n",
    "X_test=nData[:int(len(nData)*0.2)]\n",
    "y_test=y[:int(len(nData)*0.2)]"
   ]
  },
  {
   "cell_type": "code",
   "execution_count": 9,
   "id": "d8ed2f25",
   "metadata": {
    "execution": {
     "iopub.execute_input": "2023-06-13T15:21:17.284023Z",
     "iopub.status.busy": "2023-06-13T15:21:17.283331Z",
     "iopub.status.idle": "2023-06-13T15:21:17.338930Z",
     "shell.execute_reply": "2023-06-13T15:21:17.337935Z"
    },
    "papermill": {
     "duration": 0.06382,
     "end_time": "2023-06-13T15:21:17.341423",
     "exception": false,
     "start_time": "2023-06-13T15:21:17.277603",
     "status": "completed"
    },
    "tags": []
   },
   "outputs": [],
   "source": [
    "model=Sequential([\n",
    "    InputLayer(input_shape=(8,)),\n",
    "    Dense(128, activation='relu'),\n",
    "    Dense(1)\n",
    "])"
   ]
  },
  {
   "cell_type": "code",
   "execution_count": 10,
   "id": "18f41eac",
   "metadata": {
    "execution": {
     "iopub.execute_input": "2023-06-13T15:21:17.352354Z",
     "iopub.status.busy": "2023-06-13T15:21:17.351970Z",
     "iopub.status.idle": "2023-06-13T15:21:17.376001Z",
     "shell.execute_reply": "2023-06-13T15:21:17.374978Z"
    },
    "papermill": {
     "duration": 0.032314,
     "end_time": "2023-06-13T15:21:17.378454",
     "exception": false,
     "start_time": "2023-06-13T15:21:17.346140",
     "status": "completed"
    },
    "tags": []
   },
   "outputs": [],
   "source": [
    "model.compile(optimizer=Adam(learning_rate=0.1), loss = MeanAbsoluteError(),\n",
    "              metrics = RootMeanSquaredError())"
   ]
  },
  {
   "cell_type": "code",
   "execution_count": 11,
   "id": "cde9e9b6",
   "metadata": {
    "execution": {
     "iopub.execute_input": "2023-06-13T15:21:17.389469Z",
     "iopub.status.busy": "2023-06-13T15:21:17.389074Z",
     "iopub.status.idle": "2023-06-13T15:21:25.290814Z",
     "shell.execute_reply": "2023-06-13T15:21:25.289788Z"
    },
    "papermill": {
     "duration": 7.909922,
     "end_time": "2023-06-13T15:21:25.293043",
     "exception": false,
     "start_time": "2023-06-13T15:21:17.383121",
     "status": "completed"
    },
    "tags": []
   },
   "outputs": [
    {
     "name": "stdout",
     "output_type": "stream",
     "text": [
      "Epoch 1/100\n",
      "20/20 [==============================] - 1s 12ms/step - loss: 314161.0625 - root_mean_squared_error: 339413.2812 - val_loss: 288181.9375 - val_root_mean_squared_error: 312003.1875\n",
      "Epoch 2/100\n",
      "20/20 [==============================] - 0s 3ms/step - loss: 312492.6250 - root_mean_squared_error: 337814.4062 - val_loss: 285532.9062 - val_root_mean_squared_error: 309414.0312\n",
      "Epoch 3/100\n",
      "20/20 [==============================] - 0s 4ms/step - loss: 308157.3125 - root_mean_squared_error: 333687.1250 - val_loss: 280072.7188 - val_root_mean_squared_error: 304044.8438\n",
      "Epoch 4/100\n",
      "20/20 [==============================] - 0s 3ms/step - loss: 300359.4062 - root_mean_squared_error: 326179.3750 - val_loss: 271324.9688 - val_root_mean_squared_error: 295474.0625\n",
      "Epoch 5/100\n",
      "20/20 [==============================] - 0s 3ms/step - loss: 288818.8125 - root_mean_squared_error: 315180.2500 - val_loss: 259160.5469 - val_root_mean_squared_error: 283587.0312\n",
      "Epoch 6/100\n",
      "20/20 [==============================] - 0s 3ms/step - loss: 273176.5000 - root_mean_squared_error: 300292.4062 - val_loss: 243462.4219 - val_root_mean_squared_error: 268487.5625\n",
      "Epoch 7/100\n",
      "20/20 [==============================] - 0s 4ms/step - loss: 253783.5469 - root_mean_squared_error: 282263.5938 - val_loss: 224438.2188 - val_root_mean_squared_error: 250290.7500\n",
      "Epoch 8/100\n",
      "20/20 [==============================] - 0s 3ms/step - loss: 231390.1250 - root_mean_squared_error: 260890.5469 - val_loss: 202561.1250 - val_root_mean_squared_error: 229379.1562\n",
      "Epoch 9/100\n",
      "20/20 [==============================] - 0s 3ms/step - loss: 205900.6562 - root_mean_squared_error: 236580.7969 - val_loss: 179312.8594 - val_root_mean_squared_error: 206617.7500\n",
      "Epoch 10/100\n",
      "20/20 [==============================] - 0s 3ms/step - loss: 179970.4375 - root_mean_squared_error: 210490.6406 - val_loss: 155417.6719 - val_root_mean_squared_error: 182058.9844\n",
      "Epoch 11/100\n",
      "20/20 [==============================] - 0s 4ms/step - loss: 153546.2344 - root_mean_squared_error: 182326.9062 - val_loss: 131799.0312 - val_root_mean_squared_error: 156856.0469\n",
      "Epoch 12/100\n",
      "20/20 [==============================] - 0s 3ms/step - loss: 128247.5000 - root_mean_squared_error: 154380.9688 - val_loss: 108677.8281 - val_root_mean_squared_error: 130698.2266\n",
      "Epoch 13/100\n",
      "20/20 [==============================] - 0s 4ms/step - loss: 103144.1250 - root_mean_squared_error: 125933.3750 - val_loss: 85516.3594 - val_root_mean_squared_error: 103930.6484\n",
      "Epoch 14/100\n",
      "20/20 [==============================] - 0s 3ms/step - loss: 78743.0156 - root_mean_squared_error: 97045.3906 - val_loss: 64486.0742 - val_root_mean_squared_error: 79072.8438\n",
      "Epoch 15/100\n",
      "20/20 [==============================] - 0s 3ms/step - loss: 58422.5078 - root_mean_squared_error: 73003.8359 - val_loss: 47969.8047 - val_root_mean_squared_error: 59850.3594\n",
      "Epoch 16/100\n",
      "20/20 [==============================] - 0s 3ms/step - loss: 45027.2227 - root_mean_squared_error: 56410.5859 - val_loss: 40664.3984 - val_root_mean_squared_error: 49655.4805\n",
      "Epoch 17/100\n",
      "20/20 [==============================] - 0s 3ms/step - loss: 40557.2461 - root_mean_squared_error: 49949.8438 - val_loss: 38740.0195 - val_root_mean_squared_error: 46959.9414\n",
      "Epoch 18/100\n",
      "20/20 [==============================] - 0s 3ms/step - loss: 38942.0078 - root_mean_squared_error: 47989.6602 - val_loss: 37135.5312 - val_root_mean_squared_error: 45266.1523\n",
      "Epoch 19/100\n",
      "20/20 [==============================] - 0s 4ms/step - loss: 38164.9922 - root_mean_squared_error: 47192.6406 - val_loss: 36612.4805 - val_root_mean_squared_error: 44797.2422\n",
      "Epoch 20/100\n",
      "20/20 [==============================] - 0s 3ms/step - loss: 37783.4883 - root_mean_squared_error: 46821.1797 - val_loss: 36370.4570 - val_root_mean_squared_error: 44361.1797\n",
      "Epoch 21/100\n",
      "20/20 [==============================] - 0s 3ms/step - loss: 37481.5977 - root_mean_squared_error: 46546.2734 - val_loss: 35992.3203 - val_root_mean_squared_error: 43860.6562\n",
      "Epoch 22/100\n",
      "20/20 [==============================] - 0s 3ms/step - loss: 37215.3828 - root_mean_squared_error: 46195.0938 - val_loss: 35789.2422 - val_root_mean_squared_error: 43736.6055\n",
      "Epoch 23/100\n",
      "20/20 [==============================] - 0s 3ms/step - loss: 37005.4336 - root_mean_squared_error: 45978.7852 - val_loss: 35575.4062 - val_root_mean_squared_error: 43434.0430\n",
      "Epoch 24/100\n",
      "20/20 [==============================] - 0s 3ms/step - loss: 36810.8047 - root_mean_squared_error: 45734.5703 - val_loss: 35912.1250 - val_root_mean_squared_error: 43782.9883\n",
      "Epoch 25/100\n",
      "20/20 [==============================] - 0s 3ms/step - loss: 36551.1055 - root_mean_squared_error: 45481.3984 - val_loss: 35498.2891 - val_root_mean_squared_error: 43357.1758\n",
      "Epoch 26/100\n",
      "20/20 [==============================] - 0s 3ms/step - loss: 36414.6641 - root_mean_squared_error: 45335.8906 - val_loss: 35066.3047 - val_root_mean_squared_error: 42923.9922\n",
      "Epoch 27/100\n",
      "20/20 [==============================] - 0s 3ms/step - loss: 36190.2891 - root_mean_squared_error: 45103.9258 - val_loss: 35332.1328 - val_root_mean_squared_error: 43231.6055\n",
      "Epoch 28/100\n",
      "20/20 [==============================] - 0s 3ms/step - loss: 36217.1133 - root_mean_squared_error: 45129.2109 - val_loss: 35070.7578 - val_root_mean_squared_error: 42953.8320\n",
      "Epoch 29/100\n",
      "20/20 [==============================] - 0s 3ms/step - loss: 35937.2891 - root_mean_squared_error: 44829.1367 - val_loss: 35306.2422 - val_root_mean_squared_error: 43282.5078\n",
      "Epoch 30/100\n",
      "20/20 [==============================] - 0s 3ms/step - loss: 35930.1914 - root_mean_squared_error: 44754.9531 - val_loss: 34848.7539 - val_root_mean_squared_error: 42866.3867\n",
      "Epoch 31/100\n",
      "20/20 [==============================] - 0s 4ms/step - loss: 35747.6719 - root_mean_squared_error: 44526.9531 - val_loss: 35070.6172 - val_root_mean_squared_error: 43071.6953\n",
      "Epoch 32/100\n",
      "20/20 [==============================] - 0s 3ms/step - loss: 35835.9531 - root_mean_squared_error: 44608.0820 - val_loss: 34786.0273 - val_root_mean_squared_error: 42788.2188\n",
      "Epoch 33/100\n",
      "20/20 [==============================] - 0s 4ms/step - loss: 35516.0625 - root_mean_squared_error: 44329.3320 - val_loss: 34759.8047 - val_root_mean_squared_error: 42646.6406\n",
      "Epoch 34/100\n",
      "20/20 [==============================] - 0s 4ms/step - loss: 35444.4688 - root_mean_squared_error: 44209.5391 - val_loss: 35129.9375 - val_root_mean_squared_error: 43127.5781\n",
      "Epoch 35/100\n",
      "20/20 [==============================] - 0s 3ms/step - loss: 35383.5781 - root_mean_squared_error: 44175.4141 - val_loss: 34941.3516 - val_root_mean_squared_error: 42849.4844\n",
      "Epoch 36/100\n",
      "20/20 [==============================] - 0s 3ms/step - loss: 35214.6484 - root_mean_squared_error: 43977.4297 - val_loss: 34951.8594 - val_root_mean_squared_error: 42936.2227\n",
      "Epoch 37/100\n",
      "20/20 [==============================] - 0s 3ms/step - loss: 35112.0820 - root_mean_squared_error: 43881.1953 - val_loss: 35018.7227 - val_root_mean_squared_error: 43039.0977\n",
      "Epoch 38/100\n",
      "20/20 [==============================] - 0s 3ms/step - loss: 35042.4844 - root_mean_squared_error: 43772.6172 - val_loss: 34759.4766 - val_root_mean_squared_error: 42754.9297\n",
      "Epoch 39/100\n",
      "20/20 [==============================] - 0s 3ms/step - loss: 34944.6953 - root_mean_squared_error: 43671.1719 - val_loss: 34729.7734 - val_root_mean_squared_error: 42741.0703\n",
      "Epoch 40/100\n",
      "20/20 [==============================] - 0s 3ms/step - loss: 34931.3086 - root_mean_squared_error: 43602.1797 - val_loss: 34999.5234 - val_root_mean_squared_error: 42989.9414\n",
      "Epoch 41/100\n",
      "20/20 [==============================] - 0s 3ms/step - loss: 34824.3203 - root_mean_squared_error: 43548.1797 - val_loss: 34906.0430 - val_root_mean_squared_error: 42859.9766\n",
      "Epoch 42/100\n",
      "20/20 [==============================] - 0s 4ms/step - loss: 34761.4492 - root_mean_squared_error: 43491.8516 - val_loss: 34882.6133 - val_root_mean_squared_error: 42798.4414\n",
      "Epoch 43/100\n",
      "20/20 [==============================] - 0s 3ms/step - loss: 34662.6602 - root_mean_squared_error: 43354.3594 - val_loss: 34935.5547 - val_root_mean_squared_error: 42904.2383\n",
      "Epoch 44/100\n",
      "20/20 [==============================] - 0s 3ms/step - loss: 34643.0781 - root_mean_squared_error: 43364.4688 - val_loss: 34908.3359 - val_root_mean_squared_error: 42889.4688\n",
      "Epoch 45/100\n",
      "20/20 [==============================] - 0s 3ms/step - loss: 34709.2461 - root_mean_squared_error: 43437.9961 - val_loss: 34758.7266 - val_root_mean_squared_error: 42791.8828\n",
      "Epoch 46/100\n",
      "20/20 [==============================] - 0s 3ms/step - loss: 34455.7266 - root_mean_squared_error: 43185.1250 - val_loss: 34846.7070 - val_root_mean_squared_error: 42801.5000\n",
      "Epoch 47/100\n",
      "20/20 [==============================] - 0s 3ms/step - loss: 34381.3438 - root_mean_squared_error: 43080.5742 - val_loss: 35002.7500 - val_root_mean_squared_error: 42952.9141\n",
      "Epoch 48/100\n",
      "20/20 [==============================] - 0s 3ms/step - loss: 34442.2891 - root_mean_squared_error: 43118.7930 - val_loss: 35073.0742 - val_root_mean_squared_error: 43083.8555\n",
      "Epoch 49/100\n",
      "20/20 [==============================] - 0s 3ms/step - loss: 34460.2500 - root_mean_squared_error: 43102.2383 - val_loss: 35075.6914 - val_root_mean_squared_error: 43184.1836\n",
      "Epoch 50/100\n",
      "20/20 [==============================] - 0s 3ms/step - loss: 34309.6406 - root_mean_squared_error: 42998.4570 - val_loss: 35168.5430 - val_root_mean_squared_error: 43214.0781\n",
      "Epoch 51/100\n",
      "20/20 [==============================] - 0s 4ms/step - loss: 34348.5742 - root_mean_squared_error: 43009.6875 - val_loss: 34885.3594 - val_root_mean_squared_error: 42899.9883\n",
      "Epoch 52/100\n",
      "20/20 [==============================] - 0s 3ms/step - loss: 34216.4453 - root_mean_squared_error: 42877.0625 - val_loss: 34906.5742 - val_root_mean_squared_error: 42978.7539\n",
      "Epoch 53/100\n",
      "20/20 [==============================] - 0s 3ms/step - loss: 34154.6016 - root_mean_squared_error: 42895.0469 - val_loss: 34753.8984 - val_root_mean_squared_error: 42801.6250\n",
      "Epoch 54/100\n",
      "20/20 [==============================] - 0s 3ms/step - loss: 34159.4961 - root_mean_squared_error: 42857.2891 - val_loss: 35210.1562 - val_root_mean_squared_error: 43322.8672\n",
      "Epoch 55/100\n",
      "20/20 [==============================] - 0s 3ms/step - loss: 34101.0234 - root_mean_squared_error: 42761.6914 - val_loss: 35081.1328 - val_root_mean_squared_error: 43205.1641\n",
      "Epoch 56/100\n",
      "20/20 [==============================] - 0s 3ms/step - loss: 34045.3320 - root_mean_squared_error: 42771.1758 - val_loss: 34860.6523 - val_root_mean_squared_error: 42872.8203\n",
      "Epoch 57/100\n",
      "20/20 [==============================] - 0s 4ms/step - loss: 33963.6797 - root_mean_squared_error: 42684.3789 - val_loss: 35240.3320 - val_root_mean_squared_error: 43353.7500\n",
      "Epoch 58/100\n",
      "20/20 [==============================] - 0s 3ms/step - loss: 33980.5703 - root_mean_squared_error: 42567.6367 - val_loss: 35028.6055 - val_root_mean_squared_error: 43219.4570\n",
      "Epoch 59/100\n",
      "20/20 [==============================] - 0s 3ms/step - loss: 33891.6797 - root_mean_squared_error: 42597.2422 - val_loss: 34889.5625 - val_root_mean_squared_error: 42957.9961\n",
      "Epoch 60/100\n",
      "20/20 [==============================] - 0s 3ms/step - loss: 33971.9023 - root_mean_squared_error: 42567.0859 - val_loss: 35188.6016 - val_root_mean_squared_error: 43418.6172\n",
      "Epoch 61/100\n",
      "20/20 [==============================] - 0s 4ms/step - loss: 33902.5742 - root_mean_squared_error: 42507.5469 - val_loss: 34875.2578 - val_root_mean_squared_error: 42906.7070\n",
      "Epoch 62/100\n",
      "20/20 [==============================] - 0s 3ms/step - loss: 33850.5586 - root_mean_squared_error: 42571.2148 - val_loss: 34897.0391 - val_root_mean_squared_error: 43058.1641\n",
      "Epoch 63/100\n",
      "20/20 [==============================] - 0s 4ms/step - loss: 33800.0312 - root_mean_squared_error: 42474.8359 - val_loss: 35235.0742 - val_root_mean_squared_error: 43413.6523\n",
      "Epoch 64/100\n",
      "20/20 [==============================] - 0s 3ms/step - loss: 33777.1328 - root_mean_squared_error: 42445.5195 - val_loss: 35092.9648 - val_root_mean_squared_error: 43247.8867\n",
      "Epoch 65/100\n",
      "20/20 [==============================] - 0s 4ms/step - loss: 33873.8945 - root_mean_squared_error: 42526.8906 - val_loss: 35177.7734 - val_root_mean_squared_error: 43401.9648\n",
      "Epoch 66/100\n",
      "20/20 [==============================] - 0s 4ms/step - loss: 33696.3398 - root_mean_squared_error: 42381.8164 - val_loss: 34967.8633 - val_root_mean_squared_error: 43096.6562\n",
      "Epoch 67/100\n",
      "20/20 [==============================] - 0s 3ms/step - loss: 33830.5352 - root_mean_squared_error: 42491.7891 - val_loss: 35164.4688 - val_root_mean_squared_error: 43303.9180\n",
      "Epoch 68/100\n",
      "20/20 [==============================] - 0s 3ms/step - loss: 33618.1445 - root_mean_squared_error: 42309.7695 - val_loss: 35092.0547 - val_root_mean_squared_error: 43295.8203\n",
      "Epoch 69/100\n",
      "20/20 [==============================] - 0s 4ms/step - loss: 33649.9492 - root_mean_squared_error: 42358.8906 - val_loss: 35044.7383 - val_root_mean_squared_error: 43152.8906\n",
      "Epoch 70/100\n",
      "20/20 [==============================] - 0s 3ms/step - loss: 33604.2930 - root_mean_squared_error: 42262.3984 - val_loss: 35046.4766 - val_root_mean_squared_error: 43229.9570\n",
      "Epoch 71/100\n",
      "20/20 [==============================] - 0s 3ms/step - loss: 33691.2578 - root_mean_squared_error: 42305.5938 - val_loss: 35412.9062 - val_root_mean_squared_error: 43539.4180\n",
      "Epoch 72/100\n",
      "20/20 [==============================] - 0s 3ms/step - loss: 33527.3711 - root_mean_squared_error: 42200.6875 - val_loss: 35045.5859 - val_root_mean_squared_error: 43224.8242\n",
      "Epoch 73/100\n",
      "20/20 [==============================] - 0s 3ms/step - loss: 33586.0117 - root_mean_squared_error: 42194.6797 - val_loss: 35261.8008 - val_root_mean_squared_error: 43472.8477\n",
      "Epoch 74/100\n",
      "20/20 [==============================] - 0s 4ms/step - loss: 33418.4102 - root_mean_squared_error: 42128.5586 - val_loss: 34973.7188 - val_root_mean_squared_error: 43128.6914\n",
      "Epoch 75/100\n",
      "20/20 [==============================] - 0s 3ms/step - loss: 33452.3008 - root_mean_squared_error: 42087.5039 - val_loss: 35400.7695 - val_root_mean_squared_error: 43649.5195\n",
      "Epoch 76/100\n",
      "20/20 [==============================] - 0s 3ms/step - loss: 33474.5859 - root_mean_squared_error: 42127.7656 - val_loss: 35201.9258 - val_root_mean_squared_error: 43427.2500\n",
      "Epoch 77/100\n",
      "20/20 [==============================] - 0s 3ms/step - loss: 33334.7305 - root_mean_squared_error: 41974.2266 - val_loss: 35057.2930 - val_root_mean_squared_error: 43234.4102\n",
      "Epoch 78/100\n",
      "20/20 [==============================] - 0s 3ms/step - loss: 33481.3125 - root_mean_squared_error: 42157.3633 - val_loss: 35445.8555 - val_root_mean_squared_error: 43535.5078\n",
      "Epoch 79/100\n",
      "20/20 [==============================] - 0s 3ms/step - loss: 33335.6836 - root_mean_squared_error: 41952.0938 - val_loss: 35067.4609 - val_root_mean_squared_error: 43273.6289\n",
      "Epoch 80/100\n",
      "20/20 [==============================] - 0s 3ms/step - loss: 33316.9414 - root_mean_squared_error: 41981.8242 - val_loss: 35165.8633 - val_root_mean_squared_error: 43378.4023\n",
      "Epoch 81/100\n",
      "20/20 [==============================] - 0s 3ms/step - loss: 33274.5781 - root_mean_squared_error: 41991.6758 - val_loss: 35345.6172 - val_root_mean_squared_error: 43576.0508\n",
      "Epoch 82/100\n",
      "20/20 [==============================] - 0s 3ms/step - loss: 33326.4570 - root_mean_squared_error: 41945.2227 - val_loss: 35096.2812 - val_root_mean_squared_error: 43290.9961\n",
      "Epoch 83/100\n",
      "20/20 [==============================] - 0s 3ms/step - loss: 33265.5625 - root_mean_squared_error: 41894.3789 - val_loss: 35173.4922 - val_root_mean_squared_error: 43322.5234\n",
      "Epoch 84/100\n",
      "20/20 [==============================] - 0s 3ms/step - loss: 33237.0000 - root_mean_squared_error: 41980.3750 - val_loss: 35156.5234 - val_root_mean_squared_error: 43273.7188\n",
      "Epoch 85/100\n",
      "20/20 [==============================] - 0s 3ms/step - loss: 33220.3516 - root_mean_squared_error: 41923.3633 - val_loss: 35222.4492 - val_root_mean_squared_error: 43384.8516\n",
      "Epoch 86/100\n",
      "20/20 [==============================] - 0s 3ms/step - loss: 33227.1680 - root_mean_squared_error: 41923.0312 - val_loss: 35337.9180 - val_root_mean_squared_error: 43472.9062\n",
      "Epoch 87/100\n",
      "20/20 [==============================] - 0s 3ms/step - loss: 33228.7109 - root_mean_squared_error: 41938.6953 - val_loss: 35123.0586 - val_root_mean_squared_error: 43261.2969\n",
      "Epoch 88/100\n",
      "20/20 [==============================] - 0s 3ms/step - loss: 33162.4844 - root_mean_squared_error: 41836.0234 - val_loss: 35593.6758 - val_root_mean_squared_error: 43756.2305\n",
      "Epoch 89/100\n",
      "20/20 [==============================] - 0s 3ms/step - loss: 33261.5234 - root_mean_squared_error: 41957.6367 - val_loss: 35087.7734 - val_root_mean_squared_error: 43273.1641\n",
      "Epoch 90/100\n",
      "20/20 [==============================] - 0s 3ms/step - loss: 33088.9180 - root_mean_squared_error: 41765.2812 - val_loss: 35109.6797 - val_root_mean_squared_error: 43271.8086\n",
      "Epoch 91/100\n",
      "20/20 [==============================] - 0s 3ms/step - loss: 33104.6250 - root_mean_squared_error: 41779.5391 - val_loss: 35392.8438 - val_root_mean_squared_error: 43558.6602\n",
      "Epoch 92/100\n",
      "20/20 [==============================] - 0s 3ms/step - loss: 33209.8047 - root_mean_squared_error: 41868.2578 - val_loss: 35337.0352 - val_root_mean_squared_error: 43436.8711\n",
      "Epoch 93/100\n",
      "20/20 [==============================] - 0s 4ms/step - loss: 33091.6562 - root_mean_squared_error: 41796.0195 - val_loss: 35313.8359 - val_root_mean_squared_error: 43439.8203\n",
      "Epoch 94/100\n",
      "20/20 [==============================] - 0s 3ms/step - loss: 33172.1016 - root_mean_squared_error: 41792.2617 - val_loss: 35439.5195 - val_root_mean_squared_error: 43621.5156\n",
      "Epoch 95/100\n",
      "20/20 [==============================] - 0s 3ms/step - loss: 33076.6484 - root_mean_squared_error: 41697.6367 - val_loss: 35181.6133 - val_root_mean_squared_error: 43332.5742\n",
      "Epoch 96/100\n",
      "20/20 [==============================] - 0s 3ms/step - loss: 33024.9258 - root_mean_squared_error: 41707.0820 - val_loss: 35220.8711 - val_root_mean_squared_error: 43310.6406\n",
      "Epoch 97/100\n",
      "20/20 [==============================] - 0s 3ms/step - loss: 33044.3672 - root_mean_squared_error: 41791.8125 - val_loss: 35107.4180 - val_root_mean_squared_error: 43198.0078\n",
      "Epoch 98/100\n",
      "20/20 [==============================] - 0s 3ms/step - loss: 33013.9180 - root_mean_squared_error: 41674.9414 - val_loss: 35348.0938 - val_root_mean_squared_error: 43534.7773\n",
      "Epoch 99/100\n",
      "20/20 [==============================] - 0s 3ms/step - loss: 32974.5859 - root_mean_squared_error: 41679.4648 - val_loss: 35378.1133 - val_root_mean_squared_error: 43453.3164\n",
      "Epoch 100/100\n",
      "20/20 [==============================] - 0s 3ms/step - loss: 33035.7812 - root_mean_squared_error: 41736.8047 - val_loss: 35304.9531 - val_root_mean_squared_error: 43375.3203\n"
     ]
    },
    {
     "data": {
      "text/plain": [
       "<keras.callbacks.History at 0x7fe918cb31c0>"
      ]
     },
     "execution_count": 11,
     "metadata": {},
     "output_type": "execute_result"
    }
   ],
   "source": [
    "model.fit(X_train, y_train, validation_split=0.2, epochs=100)"
   ]
  },
  {
   "cell_type": "code",
   "execution_count": 12,
   "id": "6a396089",
   "metadata": {
    "execution": {
     "iopub.execute_input": "2023-06-13T15:21:25.341192Z",
     "iopub.status.busy": "2023-06-13T15:21:25.340810Z",
     "iopub.status.idle": "2023-06-13T15:21:25.534457Z",
     "shell.execute_reply": "2023-06-13T15:21:25.533268Z"
    },
    "papermill": {
     "duration": 0.22088,
     "end_time": "2023-06-13T15:21:25.536877",
     "exception": false,
     "start_time": "2023-06-13T15:21:25.315997",
     "status": "completed"
    },
    "tags": []
   },
   "outputs": [
    {
     "name": "stdout",
     "output_type": "stream",
     "text": [
      "7/7 [==============================] - 0s 2ms/step - loss: 32657.7422 - root_mean_squared_error: 39902.2656\n"
     ]
    },
    {
     "data": {
      "text/plain": [
       "[32657.7421875, 39902.265625]"
      ]
     },
     "execution_count": 12,
     "metadata": {},
     "output_type": "execute_result"
    }
   ],
   "source": [
    "model.evaluate(X_test,y_test)"
   ]
  },
  {
   "cell_type": "code",
   "execution_count": 13,
   "id": "ac410923",
   "metadata": {
    "execution": {
     "iopub.execute_input": "2023-06-13T15:21:25.585425Z",
     "iopub.status.busy": "2023-06-13T15:21:25.585021Z",
     "iopub.status.idle": "2023-06-13T15:21:25.749563Z",
     "shell.execute_reply": "2023-06-13T15:21:25.748468Z"
    },
    "papermill": {
     "duration": 0.192119,
     "end_time": "2023-06-13T15:21:25.752118",
     "exception": false,
     "start_time": "2023-06-13T15:21:25.559999",
     "status": "completed"
    },
    "tags": []
   },
   "outputs": [
    {
     "name": "stdout",
     "output_type": "stream",
     "text": [
      "7/7 [==============================] - 0s 1ms/step\n"
     ]
    }
   ],
   "source": [
    "pred = model.predict(X_test)"
   ]
  },
  {
   "cell_type": "code",
   "execution_count": 14,
   "id": "26dae09a",
   "metadata": {
    "execution": {
     "iopub.execute_input": "2023-06-13T15:21:25.801160Z",
     "iopub.status.busy": "2023-06-13T15:21:25.800180Z",
     "iopub.status.idle": "2023-06-13T15:21:26.080438Z",
     "shell.execute_reply": "2023-06-13T15:21:26.079299Z"
    },
    "papermill": {
     "duration": 0.307312,
     "end_time": "2023-06-13T15:21:26.082766",
     "exception": false,
     "start_time": "2023-06-13T15:21:25.775454",
     "status": "completed"
    },
    "tags": []
   },
   "outputs": [
    {
     "data": {
      "text/plain": [
       "<matplotlib.collections.PathCollection at 0x7fe8bc1ebac0>"
      ]
     },
     "execution_count": 14,
     "metadata": {},
     "output_type": "execute_result"
    },
    {
     "data": {
      "image/png": "[encoded data removed]",
      "text/plain": [
       "<Figure size 640x480 with 1 Axes>"
      ]
     },
     "metadata": {},
     "output_type": "display_data"
    }
   ],
   "source": [
    "plt.scatter(pred,y_test)"
   ]
  }
 ],
 "metadata": {
  "kernelspec": {
   "display_name": "Python 3",
   "language": "python",
   "name": "python3"
  },
  "language_info": {
   "codemirror_mode": {
    "name": "ipython",
    "version": 3
   },
   "file_extension": ".py",
   "mimetype": "text/x-python",
   "name": "python",
   "nbconvert_exporter": "python",
   "pygments_lexer": "ipython3",
   "version": "3.10.10"
  },
  "papermill": {
   "default_parameters": {},
   "duration": 30.513776,
   "end_time": "2023-06-13T15:21:28.799378",
   "environment_variables": {},
   "exception": null,
   "input_path": "__notebook__.ipynb",
   "output_path": "__notebook__.ipynb",
   "parameters": {},
   "start_time": "2023-06-13T15:20:58.285602",
   "version": "2.4.0"
  }
 },
 "nbformat": 4,
 "nbformat_minor": 5
}
